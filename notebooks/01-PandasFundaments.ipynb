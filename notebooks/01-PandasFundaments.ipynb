{
  "cells": [
    {
      "cell_type": "markdown",
      "metadata": {
        "colab_type": "text",
        "id": "view-in-github"
      },
      "source": [
        "<a href=\"https://colab.research.google.com/github/w4bo/2022-bbs-dm/blob/main/notebooks/01-PandasFundaments.ipynb\" target=\"_parent\"><img src=\"https://colab.research.google.com/assets/colab-badge.svg\" alt=\"Open In Colab\"/></a>"
      ]
    },
    {
      "cell_type": "markdown",
      "id": "4ae284be",
      "metadata": {
        "id": "4ae284be"
      },
      "source": [
        "# Data preprocessing\n",
        "\n",
        "Pandas is the shorthand for 'Python and Data Analysis'. It provides a rich set of features for exploring and manipulating data, making it the go-to toolkit for a lot of data scientists.\n",
        "\n",
        "Check also: https://pandas.pydata.org/"
      ]
    },
    {
      "cell_type": "markdown",
      "id": "xZ8wX2IL_5MN",
      "metadata": {
        "id": "xZ8wX2IL_5MN"
      },
      "source": [
        "In case you need help with Python fundametals, check:\n",
        "- https://github.com/w4bo/2022-bbs-dm/blob/main/notebooks/00-PythonFundamentals.ipynb\n",
        "- https://learnxinyminutes.com/docs/python/"
      ]
    },
    {
      "cell_type": "code",
      "execution_count": 1,
      "id": "3932b785",
      "metadata": {
        "id": "3932b785",
        "scrolled": false
      },
      "outputs": [
        {
          "name": "stdout",
          "output_type": "stream",
          "text": [
            "1.5.1\n"
          ]
        }
      ],
      "source": [
        "import numpy as np\n",
        "import pandas as pd\n",
        "print(pd.__version__)\n"
      ]
    },
    {
      "cell_type": "markdown",
      "id": "0451be9e",
      "metadata": {
        "id": "0451be9e"
      },
      "source": [
        "Creating some pandas series..."
      ]
    },
    {
      "cell_type": "code",
      "execution_count": 2,
      "id": "205a800c",
      "metadata": {
        "id": "205a800c"
      },
      "outputs": [
        {
          "data": {
            "text/plain": [
              "a    3\n",
              "b    3\n",
              "c    6\n",
              "d    8\n",
              "dtype: int64"
            ]
          },
          "execution_count": 2,
          "metadata": {},
          "output_type": "execute_result"
        }
      ],
      "source": [
        "ser_a = pd.Series([1, 2, 3, 4], index=[\"a\", \"b\", \"c\", \"d\"])\n",
        "ser_b = pd.Series([1, 2, 3, 4], index=[\"b\", \"a\", \"c\", \"d\"])\n",
        "\n",
        "ser_a + ser_b\n"
      ]
    },
    {
      "cell_type": "markdown",
      "id": "4fbe3136",
      "metadata": {
        "id": "4fbe3136"
      },
      "source": [
        "... doing some element-wise operations"
      ]
    },
    {
      "cell_type": "code",
      "execution_count": 3,
      "id": "50a5bde6",
      "metadata": {
        "id": "50a5bde6"
      },
      "outputs": [
        {
          "data": {
            "text/plain": [
              "a    0.5\n",
              "b    2.0\n",
              "c    1.0\n",
              "d    1.0\n",
              "dtype: float64"
            ]
          },
          "execution_count": 3,
          "metadata": {},
          "output_type": "execute_result"
        }
      ],
      "source": [
        "ser_a + ser_b\n",
        "ser_a - ser_b\n",
        "ser_a * ser_b\n",
        "ser_a / ser_b\n"
      ]
    },
    {
      "cell_type": "markdown",
      "id": "2dfc9af7",
      "metadata": {
        "id": "2dfc9af7"
      },
      "source": [
        "... doing some aggregation "
      ]
    },
    {
      "cell_type": "code",
      "execution_count": 4,
      "id": "b2c64c8e",
      "metadata": {
        "id": "b2c64c8e"
      },
      "outputs": [
        {
          "name": "stdout",
          "output_type": "stream",
          "text": [
            "float64\n",
            "object\n"
          ]
        },
        {
          "data": {
            "text/plain": [
              "0    1.0\n",
              "1    1.0\n",
              "2    1.0\n",
              "3    NaN\n",
              "4    3.0\n",
              "5    4.0\n",
              "dtype: float64"
            ]
          },
          "execution_count": 4,
          "metadata": {},
          "output_type": "execute_result"
        }
      ],
      "source": [
        "ser_c = pd.Series([1, np.nan, 3, 4], index=[\"a\", \"b\", \"c\", \"d\"])\n",
        "print(ser_c.dtype)               # Which dtype has `ser_c`?\n",
        "\n",
        "ser_c.count()             # => 3\n",
        "ser_c.sum()               # => 8\n",
        "ser_c.mean()              # => 2.67\n",
        "ser_c.mean(skipna=False)  # => nan\n",
        "ser_c.max()               # => 4\n",
        "ser_c.min()               # => 1\n",
        "ser_c.idxmax()            # => \"d\"\n",
        "\n",
        "ser_d = pd.Series([1, \"a\", 3, 4], index=[\"a\", \"b\", \"c\", \"d\"])\n",
        "print(ser_d.dtype)        # which dtype has `ser_d`?\n",
        "\n",
        "ser_e = pd.Series([1, 1, 1, np.nan, 3, 4])\n",
        "ser_e\n"
      ]
    },
    {
      "cell_type": "markdown",
      "id": "6e3c0fec",
      "metadata": {
        "id": "6e3c0fec"
      },
      "source": [
        "Cheking unique values"
      ]
    },
    {
      "cell_type": "code",
      "execution_count": 5,
      "id": "bff9fa20",
      "metadata": {
        "id": "bff9fa20"
      },
      "outputs": [
        {
          "data": {
            "text/plain": [
              "1.0    3\n",
              "3.0    1\n",
              "4.0    1\n",
              "dtype: int64"
            ]
          },
          "execution_count": 5,
          "metadata": {},
          "output_type": "execute_result"
        }
      ],
      "source": [
        "ser_e.unique()  # => [ 1., nan,  3.,  4.]\n",
        "ser_e.nunique()  # => 3\n",
        "ser_e.value_counts()\n"
      ]
    },
    {
      "cell_type": "code",
      "execution_count": 6,
      "id": "a1d99dac",
      "metadata": {
        "id": "a1d99dac"
      },
      "outputs": [
        {
          "data": {
            "text/plain": [
              "<AxesSubplot: >"
            ]
          },
          "execution_count": 6,
          "metadata": {},
          "output_type": "execute_result"
        },
        {
          "data": {
            "image/png": "[encoded data removed]",
            "text/plain": [
              "<Figure size 640x480 with 1 Axes>"
            ]
          },
          "metadata": {},
          "output_type": "display_data"
        }
      ],
      "source": [
        "ser_e.hist(bins=10)\n"
      ]
    },
    {
      "cell_type": "markdown",
      "id": "5f608753",
      "metadata": {
        "id": "5f608753"
      },
      "source": [
        "Checking null values"
      ]
    },
    {
      "cell_type": "code",
      "execution_count": 7,
      "id": "5c2f6e66",
      "metadata": {
        "id": "5c2f6e66"
      },
      "outputs": [
        {
          "data": {
            "text/html": [
              "<div>\n",
              "<style scoped>\n",
              "    .dataframe tbody tr th:only-of-type {\n",
              "        vertical-align: middle;\n",
              "    }\n",
              "\n",
              "    .dataframe tbody tr th {\n",
              "        vertical-align: top;\n",
              "    }\n",
              "\n",
              "    .dataframe thead th {\n",
              "        text-align: right;\n",
              "    }\n",
              "</style>\n",
              "<table border=\"1\" class=\"dataframe\">\n",
              "  <thead>\n",
              "    <tr style=\"text-align: right;\">\n",
              "      <th></th>\n",
              "      <th>ser_e</th>\n",
              "      <th>isna</th>\n",
              "      <th>notna</th>\n",
              "    </tr>\n",
              "  </thead>\n",
              "  <tbody>\n",
              "    <tr>\n",
              "      <th>0</th>\n",
              "      <td>1.0</td>\n",
              "      <td>False</td>\n",
              "      <td>True</td>\n",
              "    </tr>\n",
              "    <tr>\n",
              "      <th>1</th>\n",
              "      <td>1.0</td>\n",
              "      <td>False</td>\n",
              "      <td>True</td>\n",
              "    </tr>\n",
              "    <tr>\n",
              "      <th>2</th>\n",
              "      <td>1.0</td>\n",
              "      <td>False</td>\n",
              "      <td>True</td>\n",
              "    </tr>\n",
              "    <tr>\n",
              "      <th>3</th>\n",
              "      <td>NaN</td>\n",
              "      <td>True</td>\n",
              "      <td>False</td>\n",
              "    </tr>\n",
              "    <tr>\n",
              "      <th>4</th>\n",
              "      <td>3.0</td>\n",
              "      <td>False</td>\n",
              "      <td>True</td>\n",
              "    </tr>\n",
              "    <tr>\n",
              "      <th>5</th>\n",
              "      <td>4.0</td>\n",
              "      <td>False</td>\n",
              "      <td>True</td>\n",
              "    </tr>\n",
              "  </tbody>\n",
              "</table>\n",
              "</div>"
            ],
            "text/plain": [
              "   ser_e   isna  notna\n",
              "0    1.0  False   True\n",
              "1    1.0  False   True\n",
              "2    1.0  False   True\n",
              "3    NaN   True  False\n",
              "4    3.0  False   True\n",
              "5    4.0  False   True"
            ]
          },
          "execution_count": 7,
          "metadata": {},
          "output_type": "execute_result"
        }
      ],
      "source": [
        "df = pd.DataFrame()  # create an empty dataframe\n",
        "df[\"ser_e\"] = ser_e  # add the column \"ser_e\"\n",
        "df[\"isna\"] = ser_e.isna()  # add the column \"isna\", True if the value is NaN\n",
        "df[\"notna\"] = ser_e.notna()  # add the column \"notna\", False if the value is NaN\n",
        "df\n"
      ]
    },
    {
      "cell_type": "code",
      "execution_count": 8,
      "id": "fba624ad",
      "metadata": {
        "id": "fba624ad"
      },
      "outputs": [
        {
          "data": {
            "text/html": [
              "<div>\n",
              "<style scoped>\n",
              "    .dataframe tbody tr th:only-of-type {\n",
              "        vertical-align: middle;\n",
              "    }\n",
              "\n",
              "    .dataframe tbody tr th {\n",
              "        vertical-align: top;\n",
              "    }\n",
              "\n",
              "    .dataframe thead th {\n",
              "        text-align: right;\n",
              "    }\n",
              "</style>\n",
              "<table border=\"1\" class=\"dataframe\">\n",
              "  <thead>\n",
              "    <tr style=\"text-align: right;\">\n",
              "      <th></th>\n",
              "      <th>ser_e</th>\n",
              "      <th>isna</th>\n",
              "      <th>notna</th>\n",
              "      <th>mean</th>\n",
              "    </tr>\n",
              "  </thead>\n",
              "  <tbody>\n",
              "    <tr>\n",
              "      <th>0</th>\n",
              "      <td>1.0</td>\n",
              "      <td>False</td>\n",
              "      <td>True</td>\n",
              "      <td>1.0</td>\n",
              "    </tr>\n",
              "    <tr>\n",
              "      <th>1</th>\n",
              "      <td>1.0</td>\n",
              "      <td>False</td>\n",
              "      <td>True</td>\n",
              "      <td>1.0</td>\n",
              "    </tr>\n",
              "    <tr>\n",
              "      <th>2</th>\n",
              "      <td>1.0</td>\n",
              "      <td>False</td>\n",
              "      <td>True</td>\n",
              "      <td>1.0</td>\n",
              "    </tr>\n",
              "    <tr>\n",
              "      <th>3</th>\n",
              "      <td>NaN</td>\n",
              "      <td>True</td>\n",
              "      <td>False</td>\n",
              "      <td>2.0</td>\n",
              "    </tr>\n",
              "    <tr>\n",
              "      <th>4</th>\n",
              "      <td>3.0</td>\n",
              "      <td>False</td>\n",
              "      <td>True</td>\n",
              "      <td>3.0</td>\n",
              "    </tr>\n",
              "    <tr>\n",
              "      <th>5</th>\n",
              "      <td>4.0</td>\n",
              "      <td>False</td>\n",
              "      <td>True</td>\n",
              "      <td>4.0</td>\n",
              "    </tr>\n",
              "  </tbody>\n",
              "</table>\n",
              "</div>"
            ],
            "text/plain": [
              "   ser_e   isna  notna  mean\n",
              "0    1.0  False   True   1.0\n",
              "1    1.0  False   True   1.0\n",
              "2    1.0  False   True   1.0\n",
              "3    NaN   True  False   2.0\n",
              "4    3.0  False   True   3.0\n",
              "5    4.0  False   True   4.0"
            ]
          },
          "execution_count": 8,
          "metadata": {},
          "output_type": "execute_result"
        }
      ],
      "source": [
        "ser_e.mean()  # the mean is 2\n",
        "# fill the missing value with the average\n",
        "df[\"mean\"] = ser_e.fillna(ser_e.mean())\n",
        "df\n"
      ]
    },
    {
      "cell_type": "code",
      "execution_count": 9,
      "id": "06d6b70f",
      "metadata": {
        "id": "06d6b70f",
        "scrolled": true
      },
      "outputs": [
        {
          "data": {
            "text/html": [
              "<div>\n",
              "<style scoped>\n",
              "    .dataframe tbody tr th:only-of-type {\n",
              "        vertical-align: middle;\n",
              "    }\n",
              "\n",
              "    .dataframe tbody tr th {\n",
              "        vertical-align: top;\n",
              "    }\n",
              "\n",
              "    .dataframe thead th {\n",
              "        text-align: right;\n",
              "    }\n",
              "</style>\n",
              "<table border=\"1\" class=\"dataframe\">\n",
              "  <thead>\n",
              "    <tr style=\"text-align: right;\">\n",
              "      <th></th>\n",
              "      <th>ser_e</th>\n",
              "      <th>isna</th>\n",
              "      <th>notna</th>\n",
              "      <th>mean</th>\n",
              "      <th>ffill</th>\n",
              "    </tr>\n",
              "  </thead>\n",
              "  <tbody>\n",
              "    <tr>\n",
              "      <th>0</th>\n",
              "      <td>1.0</td>\n",
              "      <td>False</td>\n",
              "      <td>True</td>\n",
              "      <td>1.0</td>\n",
              "      <td>1.0</td>\n",
              "    </tr>\n",
              "    <tr>\n",
              "      <th>1</th>\n",
              "      <td>1.0</td>\n",
              "      <td>False</td>\n",
              "      <td>True</td>\n",
              "      <td>1.0</td>\n",
              "      <td>1.0</td>\n",
              "    </tr>\n",
              "    <tr>\n",
              "      <th>2</th>\n",
              "      <td>1.0</td>\n",
              "      <td>False</td>\n",
              "      <td>True</td>\n",
              "      <td>1.0</td>\n",
              "      <td>1.0</td>\n",
              "    </tr>\n",
              "    <tr>\n",
              "      <th>3</th>\n",
              "      <td>NaN</td>\n",
              "      <td>True</td>\n",
              "      <td>False</td>\n",
              "      <td>2.0</td>\n",
              "      <td>1.0</td>\n",
              "    </tr>\n",
              "    <tr>\n",
              "      <th>4</th>\n",
              "      <td>3.0</td>\n",
              "      <td>False</td>\n",
              "      <td>True</td>\n",
              "      <td>3.0</td>\n",
              "      <td>3.0</td>\n",
              "    </tr>\n",
              "    <tr>\n",
              "      <th>5</th>\n",
              "      <td>4.0</td>\n",
              "      <td>False</td>\n",
              "      <td>True</td>\n",
              "      <td>4.0</td>\n",
              "      <td>4.0</td>\n",
              "    </tr>\n",
              "  </tbody>\n",
              "</table>\n",
              "</div>"
            ],
            "text/plain": [
              "   ser_e   isna  notna  mean  ffill\n",
              "0    1.0  False   True   1.0    1.0\n",
              "1    1.0  False   True   1.0    1.0\n",
              "2    1.0  False   True   1.0    1.0\n",
              "3    NaN   True  False   2.0    1.0\n",
              "4    3.0  False   True   3.0    3.0\n",
              "5    4.0  False   True   4.0    4.0"
            ]
          },
          "execution_count": 9,
          "metadata": {},
          "output_type": "execute_result"
        }
      ],
      "source": [
        "# fill the missing value with the previous (not NaN) value\n",
        "df[\"ffill\"] = ser_e.fillna(method=\"ffill\")\n",
        "df\n"
      ]
    },
    {
      "cell_type": "code",
      "execution_count": 10,
      "id": "0e8f5d63",
      "metadata": {
        "id": "0e8f5d63",
        "scrolled": true
      },
      "outputs": [
        {
          "data": {
            "text/html": [
              "<div>\n",
              "<style scoped>\n",
              "    .dataframe tbody tr th:only-of-type {\n",
              "        vertical-align: middle;\n",
              "    }\n",
              "\n",
              "    .dataframe tbody tr th {\n",
              "        vertical-align: top;\n",
              "    }\n",
              "\n",
              "    .dataframe thead th {\n",
              "        text-align: right;\n",
              "    }\n",
              "</style>\n",
              "<table border=\"1\" class=\"dataframe\">\n",
              "  <thead>\n",
              "    <tr style=\"text-align: right;\">\n",
              "      <th></th>\n",
              "      <th>ser_e</th>\n",
              "      <th>isna</th>\n",
              "      <th>notna</th>\n",
              "      <th>mean</th>\n",
              "      <th>ffill</th>\n",
              "      <th>bfill</th>\n",
              "    </tr>\n",
              "  </thead>\n",
              "  <tbody>\n",
              "    <tr>\n",
              "      <th>0</th>\n",
              "      <td>1.0</td>\n",
              "      <td>False</td>\n",
              "      <td>True</td>\n",
              "      <td>1.0</td>\n",
              "      <td>1.0</td>\n",
              "      <td>1.0</td>\n",
              "    </tr>\n",
              "    <tr>\n",
              "      <th>1</th>\n",
              "      <td>1.0</td>\n",
              "      <td>False</td>\n",
              "      <td>True</td>\n",
              "      <td>1.0</td>\n",
              "      <td>1.0</td>\n",
              "      <td>1.0</td>\n",
              "    </tr>\n",
              "    <tr>\n",
              "      <th>2</th>\n",
              "      <td>1.0</td>\n",
              "      <td>False</td>\n",
              "      <td>True</td>\n",
              "      <td>1.0</td>\n",
              "      <td>1.0</td>\n",
              "      <td>1.0</td>\n",
              "    </tr>\n",
              "    <tr>\n",
              "      <th>3</th>\n",
              "      <td>NaN</td>\n",
              "      <td>True</td>\n",
              "      <td>False</td>\n",
              "      <td>2.0</td>\n",
              "      <td>1.0</td>\n",
              "      <td>3.0</td>\n",
              "    </tr>\n",
              "    <tr>\n",
              "      <th>4</th>\n",
              "      <td>3.0</td>\n",
              "      <td>False</td>\n",
              "      <td>True</td>\n",
              "      <td>3.0</td>\n",
              "      <td>3.0</td>\n",
              "      <td>3.0</td>\n",
              "    </tr>\n",
              "    <tr>\n",
              "      <th>5</th>\n",
              "      <td>4.0</td>\n",
              "      <td>False</td>\n",
              "      <td>True</td>\n",
              "      <td>4.0</td>\n",
              "      <td>4.0</td>\n",
              "      <td>4.0</td>\n",
              "    </tr>\n",
              "  </tbody>\n",
              "</table>\n",
              "</div>"
            ],
            "text/plain": [
              "   ser_e   isna  notna  mean  ffill  bfill\n",
              "0    1.0  False   True   1.0    1.0    1.0\n",
              "1    1.0  False   True   1.0    1.0    1.0\n",
              "2    1.0  False   True   1.0    1.0    1.0\n",
              "3    NaN   True  False   2.0    1.0    3.0\n",
              "4    3.0  False   True   3.0    3.0    3.0\n",
              "5    4.0  False   True   4.0    4.0    4.0"
            ]
          },
          "execution_count": 10,
          "metadata": {},
          "output_type": "execute_result"
        }
      ],
      "source": [
        "# fill the missing value with the following (not NaN) value\n",
        "df[\"bfill\"] = ser_e.fillna(method=\"bfill\")\n",
        "df\n"
      ]
    },
    {
      "cell_type": "code",
      "execution_count": 11,
      "id": "1aebd691",
      "metadata": {
        "id": "1aebd691",
        "scrolled": true
      },
      "outputs": [
        {
          "data": {
            "text/plain": [
              "0    1.0\n",
              "1    1.0\n",
              "2    1.0\n",
              "4    3.0\n",
              "5    4.0\n",
              "dtype: float64"
            ]
          },
          "execution_count": 11,
          "metadata": {},
          "output_type": "execute_result"
        }
      ],
      "source": [
        "ser_e.dropna()\n"
      ]
    },
    {
      "cell_type": "markdown",
      "id": "41e9895a",
      "metadata": {
        "id": "41e9895a"
      },
      "source": [
        "Creating pandas dataframes"
      ]
    },
    {
      "cell_type": "code",
      "execution_count": 12,
      "id": "20628a6f",
      "metadata": {
        "id": "20628a6f"
      },
      "outputs": [
        {
          "data": {
            "text/html": [
              "<div>\n",
              "<style scoped>\n",
              "    .dataframe tbody tr th:only-of-type {\n",
              "        vertical-align: middle;\n",
              "    }\n",
              "\n",
              "    .dataframe tbody tr th {\n",
              "        vertical-align: top;\n",
              "    }\n",
              "\n",
              "    .dataframe thead th {\n",
              "        text-align: right;\n",
              "    }\n",
              "</style>\n",
              "<table border=\"1\" class=\"dataframe\">\n",
              "  <thead>\n",
              "    <tr style=\"text-align: right;\">\n",
              "      <th></th>\n",
              "      <th>a</th>\n",
              "      <th>b</th>\n",
              "      <th>c</th>\n",
              "      <th>d</th>\n",
              "      <th>e</th>\n",
              "      <th>f</th>\n",
              "      <th>g</th>\n",
              "      <th>h</th>\n",
              "      <th>i</th>\n",
              "      <th>j</th>\n",
              "    </tr>\n",
              "  </thead>\n",
              "  <tbody>\n",
              "    <tr>\n",
              "      <th>0</th>\n",
              "      <td>3</td>\n",
              "      <td>9</td>\n",
              "      <td>8</td>\n",
              "      <td>2</td>\n",
              "      <td>5</td>\n",
              "      <td>9</td>\n",
              "      <td>7</td>\n",
              "      <td>9</td>\n",
              "      <td>1</td>\n",
              "      <td>9</td>\n",
              "    </tr>\n",
              "    <tr>\n",
              "      <th>1</th>\n",
              "      <td>0</td>\n",
              "      <td>7</td>\n",
              "      <td>4</td>\n",
              "      <td>8</td>\n",
              "      <td>3</td>\n",
              "      <td>3</td>\n",
              "      <td>7</td>\n",
              "      <td>8</td>\n",
              "      <td>8</td>\n",
              "      <td>7</td>\n",
              "    </tr>\n",
              "    <tr>\n",
              "      <th>2</th>\n",
              "      <td>6</td>\n",
              "      <td>2</td>\n",
              "      <td>3</td>\n",
              "      <td>2</td>\n",
              "      <td>8</td>\n",
              "      <td>6</td>\n",
              "      <td>0</td>\n",
              "      <td>1</td>\n",
              "      <td>2</td>\n",
              "      <td>9</td>\n",
              "    </tr>\n",
              "    <tr>\n",
              "      <th>3</th>\n",
              "      <td>0</td>\n",
              "      <td>4</td>\n",
              "      <td>0</td>\n",
              "      <td>4</td>\n",
              "      <td>7</td>\n",
              "      <td>9</td>\n",
              "      <td>6</td>\n",
              "      <td>6</td>\n",
              "      <td>6</td>\n",
              "      <td>9</td>\n",
              "    </tr>\n",
              "    <tr>\n",
              "      <th>4</th>\n",
              "      <td>7</td>\n",
              "      <td>2</td>\n",
              "      <td>5</td>\n",
              "      <td>1</td>\n",
              "      <td>0</td>\n",
              "      <td>2</td>\n",
              "      <td>7</td>\n",
              "      <td>3</td>\n",
              "      <td>4</td>\n",
              "      <td>6</td>\n",
              "    </tr>\n",
              "  </tbody>\n",
              "</table>\n",
              "</div>"
            ],
            "text/plain": [
              "   a  b  c  d  e  f  g  h  i  j\n",
              "0  3  9  8  2  5  9  7  9  1  9\n",
              "1  0  7  4  8  3  3  7  8  8  7\n",
              "2  6  2  3  2  8  6  0  1  2  9\n",
              "3  0  4  0  4  7  9  6  6  6  9\n",
              "4  7  2  5  1  0  2  7  3  4  6"
            ]
          },
          "execution_count": 12,
          "metadata": {},
          "output_type": "execute_result"
        }
      ],
      "source": [
        "# create a dataframe with random data\n",
        "import random\n",
        "random.seed(3)\n",
        "df = pd.DataFrame([[random.randint(0, 9) for i in range(10)] for i in range(5)],\n",
        "                  index=[i for i in range(5)],\n",
        "                  columns=list('abcdefghij'))\n",
        "df\n"
      ]
    },
    {
      "cell_type": "markdown",
      "id": "17382ff5",
      "metadata": {
        "id": "17382ff5"
      },
      "source": [
        "Doing some operations with pandas dataframes"
      ]
    },
    {
      "cell_type": "code",
      "execution_count": 13,
      "id": "3dba1b0f",
      "metadata": {
        "id": "3dba1b0f"
      },
      "outputs": [
        {
          "data": {
            "text/html": [
              "<div>\n",
              "<style scoped>\n",
              "    .dataframe tbody tr th:only-of-type {\n",
              "        vertical-align: middle;\n",
              "    }\n",
              "\n",
              "    .dataframe tbody tr th {\n",
              "        vertical-align: top;\n",
              "    }\n",
              "\n",
              "    .dataframe thead th {\n",
              "        text-align: right;\n",
              "    }\n",
              "</style>\n",
              "<table border=\"1\" class=\"dataframe\">\n",
              "  <thead>\n",
              "    <tr style=\"text-align: right;\">\n",
              "      <th></th>\n",
              "      <th>a</th>\n",
              "      <th>b</th>\n",
              "      <th>c</th>\n",
              "      <th>d</th>\n",
              "      <th>e</th>\n",
              "      <th>f</th>\n",
              "      <th>g</th>\n",
              "      <th>h</th>\n",
              "      <th>i</th>\n",
              "      <th>j</th>\n",
              "      <th>k</th>\n",
              "    </tr>\n",
              "  </thead>\n",
              "  <tbody>\n",
              "    <tr>\n",
              "      <th>count</th>\n",
              "      <td>5.000000</td>\n",
              "      <td>5.000000</td>\n",
              "      <td>5.000000</td>\n",
              "      <td>5.000000</td>\n",
              "      <td>5.000000</td>\n",
              "      <td>5.000000</td>\n",
              "      <td>5.00000</td>\n",
              "      <td>5.000000</td>\n",
              "      <td>5.000000</td>\n",
              "      <td>5.000000</td>\n",
              "      <td>5.000000</td>\n",
              "    </tr>\n",
              "    <tr>\n",
              "      <th>mean</th>\n",
              "      <td>3.200000</td>\n",
              "      <td>4.800000</td>\n",
              "      <td>4.000000</td>\n",
              "      <td>3.400000</td>\n",
              "      <td>4.600000</td>\n",
              "      <td>5.800000</td>\n",
              "      <td>5.40000</td>\n",
              "      <td>5.400000</td>\n",
              "      <td>4.200000</td>\n",
              "      <td>8.000000</td>\n",
              "      <td>10.600000</td>\n",
              "    </tr>\n",
              "    <tr>\n",
              "      <th>std</th>\n",
              "      <td>3.271085</td>\n",
              "      <td>3.114482</td>\n",
              "      <td>2.915476</td>\n",
              "      <td>2.792848</td>\n",
              "      <td>3.209361</td>\n",
              "      <td>3.271085</td>\n",
              "      <td>3.04959</td>\n",
              "      <td>3.361547</td>\n",
              "      <td>2.863564</td>\n",
              "      <td>1.414214</td>\n",
              "      <td>11.260551</td>\n",
              "    </tr>\n",
              "    <tr>\n",
              "      <th>min</th>\n",
              "      <td>0.000000</td>\n",
              "      <td>2.000000</td>\n",
              "      <td>0.000000</td>\n",
              "      <td>1.000000</td>\n",
              "      <td>0.000000</td>\n",
              "      <td>2.000000</td>\n",
              "      <td>0.00000</td>\n",
              "      <td>1.000000</td>\n",
              "      <td>1.000000</td>\n",
              "      <td>6.000000</td>\n",
              "      <td>0.000000</td>\n",
              "    </tr>\n",
              "    <tr>\n",
              "      <th>25%</th>\n",
              "      <td>0.000000</td>\n",
              "      <td>2.000000</td>\n",
              "      <td>3.000000</td>\n",
              "      <td>2.000000</td>\n",
              "      <td>3.000000</td>\n",
              "      <td>3.000000</td>\n",
              "      <td>6.00000</td>\n",
              "      <td>3.000000</td>\n",
              "      <td>2.000000</td>\n",
              "      <td>7.000000</td>\n",
              "      <td>0.000000</td>\n",
              "    </tr>\n",
              "    <tr>\n",
              "      <th>50%</th>\n",
              "      <td>3.000000</td>\n",
              "      <td>4.000000</td>\n",
              "      <td>4.000000</td>\n",
              "      <td>2.000000</td>\n",
              "      <td>5.000000</td>\n",
              "      <td>6.000000</td>\n",
              "      <td>7.00000</td>\n",
              "      <td>6.000000</td>\n",
              "      <td>4.000000</td>\n",
              "      <td>9.000000</td>\n",
              "      <td>12.000000</td>\n",
              "    </tr>\n",
              "    <tr>\n",
              "      <th>75%</th>\n",
              "      <td>6.000000</td>\n",
              "      <td>7.000000</td>\n",
              "      <td>5.000000</td>\n",
              "      <td>4.000000</td>\n",
              "      <td>7.000000</td>\n",
              "      <td>9.000000</td>\n",
              "      <td>7.00000</td>\n",
              "      <td>8.000000</td>\n",
              "      <td>6.000000</td>\n",
              "      <td>9.000000</td>\n",
              "      <td>14.000000</td>\n",
              "    </tr>\n",
              "    <tr>\n",
              "      <th>max</th>\n",
              "      <td>7.000000</td>\n",
              "      <td>9.000000</td>\n",
              "      <td>8.000000</td>\n",
              "      <td>8.000000</td>\n",
              "      <td>8.000000</td>\n",
              "      <td>9.000000</td>\n",
              "      <td>7.00000</td>\n",
              "      <td>9.000000</td>\n",
              "      <td>8.000000</td>\n",
              "      <td>9.000000</td>\n",
              "      <td>27.000000</td>\n",
              "    </tr>\n",
              "  </tbody>\n",
              "</table>\n",
              "</div>"
            ],
            "text/plain": [
              "              a         b         c         d         e         f        g  \\\n",
              "count  5.000000  5.000000  5.000000  5.000000  5.000000  5.000000  5.00000   \n",
              "mean   3.200000  4.800000  4.000000  3.400000  4.600000  5.800000  5.40000   \n",
              "std    3.271085  3.114482  2.915476  2.792848  3.209361  3.271085  3.04959   \n",
              "min    0.000000  2.000000  0.000000  1.000000  0.000000  2.000000  0.00000   \n",
              "25%    0.000000  2.000000  3.000000  2.000000  3.000000  3.000000  6.00000   \n",
              "50%    3.000000  4.000000  4.000000  2.000000  5.000000  6.000000  7.00000   \n",
              "75%    6.000000  7.000000  5.000000  4.000000  7.000000  9.000000  7.00000   \n",
              "max    7.000000  9.000000  8.000000  8.000000  8.000000  9.000000  7.00000   \n",
              "\n",
              "              h         i         j          k  \n",
              "count  5.000000  5.000000  5.000000   5.000000  \n",
              "mean   5.400000  4.200000  8.000000  10.600000  \n",
              "std    3.361547  2.863564  1.414214  11.260551  \n",
              "min    1.000000  1.000000  6.000000   0.000000  \n",
              "25%    3.000000  2.000000  7.000000   0.000000  \n",
              "50%    6.000000  4.000000  9.000000  12.000000  \n",
              "75%    8.000000  6.000000  9.000000  14.000000  \n",
              "max    9.000000  8.000000  9.000000  27.000000  "
            ]
          },
          "execution_count": 13,
          "metadata": {},
          "output_type": "execute_result"
        }
      ],
      "source": [
        "# Select a column (i.e., a series)\n",
        "df['a']\n",
        "\n",
        "# Add another column\n",
        "df['k'] = df['a'] * df['b']\n",
        "\n",
        "# Get the headers (i.e., the column names)\n",
        "df.columns\n",
        "\n",
        "# Get just the first two rows\n",
        "df.head(2)\n",
        "\n",
        "# Get just the last two rows\n",
        "df.tail(2)\n",
        "\n",
        "# Sort the dataframe by columns\n",
        "df.sort_values(by=['a', 'b'], ascending=[False, True])\n",
        "\n",
        "# To get some statistics (e.g., count, mean, std, min, etc.)\n",
        "df.describe()\n"
      ]
    },
    {
      "cell_type": "markdown",
      "id": "cad18c8a",
      "metadata": {
        "id": "cad18c8a"
      },
      "source": [
        "Why is the `mean` around 4.0 and 5.0?"
      ]
    }
  ],
  "metadata": {
    "colab": {
      "include_colab_link": true,
      "name": "01-PandasFundaments.ipynb",
      "provenance": []
    },
    "kernelspec": {
      "display_name": "Python 3 (ipykernel)",
      "language": "python",
      "name": "python3"
    },
    "language_info": {
      "codemirror_mode": {
        "name": "ipython",
        "version": 3
      },
      "file_extension": ".py",
      "mimetype": "text/x-python",
      "name": "python",
      "nbconvert_exporter": "python",
      "pygments_lexer": "ipython3",
      "version": "3.11.2"
    }
  },
  "nbformat": 4,
  "nbformat_minor": 5
}
